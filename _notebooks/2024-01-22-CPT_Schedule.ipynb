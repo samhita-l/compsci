{
 "cells": [
  {
   "cell_type": "code",
   "execution_count": null,
   "metadata": {},
   "outputs": [],
   "source": [
    "---\n",
    "toc: false\n",
    "comments: true\n",
    "layout: post\n",
    "title: CPT Project Brainstorming and Planning\n",
    "description: \n",
    "type: plans\n",
    "courses: { compsci: {week: 17} }\n",
    "---"
   ]
  },
  {
   "cell_type": "markdown",
   "metadata": {},
   "source": [
    "## CPT Brainstorm\n",
    "I'm excited to implement login features in our website because it will enable a more customizable user experience because users can store specific pieces of individualized information.\n",
    "\n",
    "We had a hard time coming up with a feasible idea that we were all passionate about. We considered a fitness tracker and lyric searcher, but ended up choosing the travel planner.\n",
    "\n",
    "## Plan\n",
    "\n",
    "I will be working on the weather portion of our project. We have four sections: weather, itinery, activities, and hotel info.\n",
    "\n",
    "First, users will login to the website with a username and password. For the weather page of the website, it will use a weather API and database so it can request data for the weather on that day at that location.\n",
    "\n",
    "| Day     | Plan | Description   |\n",
    "|----------|-----|--------------|\n",
    "| Monday     | Login  | I will work on the SCSS and CSS styling and try to create my own login page    |\n",
    "| Tuesday    | Weather  | I will work on the frontend and import my images into the page and find a template    |\n",
    "| Wednesday  | Weather  | Find databases to use for the San Diego API     |\n",
    "| Thursday   | Weather  | Continue working on applying databases for API   |\n"
   ]
  }
 ],
 "metadata": {
  "language_info": {
   "name": "python"
  },
  "orig_nbformat": 4
 },
 "nbformat": 4,
 "nbformat_minor": 2
}
