{
 "cells": [
  {
   "cell_type": "markdown",
   "metadata": {},
   "source": [
    "---\n",
    "toc: false\n",
    "comments: true\n",
    "layout: post\n",
    "title: Python Student Teaching Lesson\n",
    "courses: { compsci: {week: 7} }\n",
    "type: hacks\n",
    "---"
   ]
  },
  {
   "cell_type": "markdown",
   "metadata": {},
   "source": [
    "Popcorn Hack #1"
   ]
  },
  {
   "cell_type": "code",
   "execution_count": 1,
   "metadata": {},
   "outputs": [
    {
     "name": "stdout",
     "output_type": "stream",
     "text": [
      "15\n"
     ]
    }
   ],
   "source": [
    "number = 15\n",
    "print(number)"
   ]
  },
  {
   "cell_type": "markdown",
   "metadata": {},
   "source": [
    "Popcorn Hack #2"
   ]
  },
  {
   "cell_type": "code",
   "execution_count": 4,
   "metadata": {},
   "outputs": [
    {
     "name": "stdout",
     "output_type": "stream",
     "text": [
      "name\n",
      "True\n"
     ]
    }
   ],
   "source": [
    "string = \"name\"\n",
    "print(string)\n",
    "boolean = True\n",
    "print(boolean)\n",
    "\n"
   ]
  },
  {
   "cell_type": "markdown",
   "metadata": {},
   "source": [
    "Popcorn Hack #3"
   ]
  },
  {
   "cell_type": "code",
   "execution_count": 6,
   "metadata": {},
   "outputs": [
    {
     "name": "stdout",
     "output_type": "stream",
     "text": [
      "Samhita\n",
      "Bob\n",
      "Bob so\n"
     ]
    }
   ],
   "source": [
    "currentName = \"Samhita\"\n",
    "print(currentName)\n",
    "\n",
    "currentName = \"Bob\"\n",
    "print(currentName)\n",
    "\n",
    "idk = \"so\"\n",
    "print(currentName + \" \" + idk)"
   ]
  },
  {
   "cell_type": "markdown",
   "metadata": {},
   "source": [
    "Popcorn Hack #4"
   ]
  },
  {
   "cell_type": "code",
   "execution_count": 7,
   "metadata": {},
   "outputs": [
    {
     "name": "stdout",
     "output_type": "stream",
     "text": [
      "60\n"
     ]
    }
   ],
   "source": [
    "num1 = 30\n",
    "num2 = num1\n",
    "print(num1 + num2)"
   ]
  },
  {
   "cell_type": "markdown",
   "metadata": {},
   "source": [
    "Popcorn Hack #5"
   ]
  },
  {
   "cell_type": "code",
   "execution_count": 15,
   "metadata": {},
   "outputs": [
    {
     "name": "stdout",
     "output_type": "stream",
     "text": [
      "J D\n",
      "BD\n"
     ]
    }
   ],
   "source": [
    "name = \"John Doe\"\n",
    "print(name[0]+ \" \" + name[5])\n",
    "\n",
    "currentName = \"B\"\n",
    "print(currentName + name[5])"
   ]
  },
  {
   "cell_type": "markdown",
   "metadata": {},
   "source": [
    "Homework"
   ]
  },
  {
   "cell_type": "code",
   "execution_count": 2,
   "metadata": {},
   "outputs": [
    {
     "name": "stdout",
     "output_type": "stream",
     "text": [
      "People in the dictionary:\n",
      "Samhita is 15 years old\n",
      "Anna is 23 years old\n",
      "Malia is 40 years old\n",
      "Gloria is 40 years old\n",
      "The oldest person(s) is/are: Malia, Gloria with an age of 40 years.\n"
     ]
    }
   ],
   "source": [
    "def print_people(people):\n",
    "    for person, age in people.items():\n",
    "        print(f\"{person} is {age} years old\")\n",
    "\n",
    "def find_oldest_person(people):\n",
    "    oldest_age = max(people.values())\n",
    "    oldest_people = [person for person, age in people.items() if age == oldest_age]\n",
    "    print(f\"The oldest person(s) is/are: {', '.join(oldest_people)} with an age of {oldest_age} years.\")\n",
    "\n",
    "people = {\n",
    "    \"Samhita\": 15,\n",
    "    \"Anna\": 23,\n",
    "    \"Malia\": 40,\n",
    "    \"Gloria\": 40\n",
    "    }\n",
    "\n",
    "print(\"People in the dictionary:\")\n",
    "print_people(people)\n",
    "\n",
    "find_oldest_person(people)\n",
    "\n",
    "\n",
    "\n",
    "    \n",
    "\n"
   ]
  },
  {
   "cell_type": "code",
   "execution_count": 16,
   "metadata": {},
   "outputs": [
    {
     "name": "stdout",
     "output_type": "stream",
     "text": [
      "<class 'int'>\n"
     ]
    }
   ],
   "source": [
    "x = 5\n",
    "print(type(5))"
   ]
  },
  {
   "cell_type": "code",
   "execution_count": null,
   "metadata": {},
   "outputs": [],
   "source": []
  }
 ],
 "metadata": {
  "kernelspec": {
   "display_name": "Python 3",
   "language": "python",
   "name": "python3"
  },
  "language_info": {
   "codemirror_mode": {
    "name": "ipython",
    "version": 3
   },
   "file_extension": ".py",
   "mimetype": "text/x-python",
   "name": "python",
   "nbconvert_exporter": "python",
   "pygments_lexer": "ipython3",
   "version": "3.10.12"
  },
  "orig_nbformat": 4
 },
 "nbformat": 4,
 "nbformat_minor": 2
}
