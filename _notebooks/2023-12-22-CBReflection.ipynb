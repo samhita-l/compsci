{
 "cells": [
  {
   "cell_type": "code",
   "execution_count": null,
   "metadata": {},
   "outputs": [],
   "source": [
    "---\n",
    "toc: false\n",
    "comments: true\n",
    "layout: post\n",
    "title: College Board Reflection\n",
    "description: CB\n",
    "type: tangibles\n",
    "courses: { compsci: {week: 17} }\n",
    "---"
   ]
  },
  {
   "cell_type": "markdown",
   "metadata": {},
   "source": [
    "I received a 63/67 on the College Board MC from this trimester. I’m quite pleased with my performance, however, I noticed that many of the questions I got wrong were silly mistakes. I felt confident about more topics that we covered with the team teaches. I also had to research topics I wasn’t as familiar with. In the future, I want to go back to my notes and regularly review them to succeed in the AP Test when no resources are available during the MC. I felt myself getting tired during the test, so I couldn’t complete it in one sitting and had to take breaks. Next time I take a practice test, I will be sure to treat it like an AP Test so that when the time comes and I have to do the real test, the fatigue that comes with long tests like these will not bother me as much.\n",
    "\n",
    "Corrections: \n",
    "Question 2: A small team of wildlife researchers is working on a project that uses motion-activated field cameras to capture images of animals at study sites. The team is considering using a “citizen science” approach to analyze the images. Which of the following best explains why such an approach is considered useful for this project?\n",
    "My answer: B - The image analysis is likely to be more consistent if completed by an individual citizen.\n",
    "Correct answer: D - The image analysis is likely to take a longer time for the research team than for a distributed group of individuals.\n",
    "I honestly shouldn’t have gotten this wrong. I do not think I comprehended the answer choices and rushed over reading the answers since I was just starting the test.\n",
    "Question 11: According to information in the table, what color is represented by the binary RGB triplet (11111111, 11111111, 11110000) ?\n",
    "My answer was neutral gray instead of ivory because I misread and miscalculated a few numbers leading to the incorrect answer.\n",
    "Question 16: A student wrote the following program to remove all occurrences of the strings \"the\" and \"a\" from the list wordList.\n",
    "\n",
    "Line 1: index \n",
    " LENGTH (wordList)\n",
    "\n",
    "Line 2: REPEAT UNTIL (index < 1)\n",
    "\n",
    "Line 3: {\n",
    "\n",
    "Line 4:    IF ((wordList[index] = \"the\") OR (wordList[index] = \"a\"))\n",
    "\n",
    "Line 5:    {\n",
    "\n",
    "Line 6:       REMOVE (wordList, index)\n",
    "\n",
    "Line 7:    }\n",
    "\n",
    "Line 8: }\n",
    "\n",
    "While debugging the program, the student realizes that the loop never terminates. Which of the following changes can be made so that the program works as intended?\n",
    "My answer: C  Inserting index ← index - 1 between lines 6 and 7\n",
    "Correct answer: D  Inserting index ← index - 1 between lines 7 and 8\n",
    "For this question, I was debating over choosing choice C or D and I didn’t quite process the code. I now realize that inserting the line of code between lines 6 and 7 is wrong because it would only apply to the word includes the or a rather than all elements.\n",
    "\n",
    "Question 22: Spinner simulator: I still don’t understand the significance of the spin number.\n"
   ]
  }
 ],
 "metadata": {
  "language_info": {
   "name": "python"
  },
  "orig_nbformat": 4
 },
 "nbformat": 4,
 "nbformat_minor": 2
}
